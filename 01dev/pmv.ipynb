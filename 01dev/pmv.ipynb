{
 "cells": [
  {
   "cell_type": "markdown",
   "metadata": {},
   "source": [
    "### Proof of concept"
   ]
  },
  {
   "cell_type": "code",
   "execution_count": 1,
   "metadata": {},
   "outputs": [],
   "source": [
    "# Dependencies\n",
    "import requests\n",
    "import pandas as pd"
   ]
  },
  {
   "cell_type": "code",
   "execution_count": 2,
   "metadata": {},
   "outputs": [
    {
     "data": {
      "text/plain": [
       "{'id': 'bitcoin', 'symbol': 'btc', 'name': 'Bitcoin'}"
      ]
     },
     "execution_count": 2,
     "metadata": {},
     "output_type": "execute_result"
    }
   ],
   "source": [
    "# Find coin ID\n",
    "url = \"https://api.coingecko.com/api/v3/coins/list\"\n",
    "coin_list = requests.get(url).json()\n",
    "# Find Bitcoin\n",
    "bitcoin_id, = [x for x in coin_list if x[\"id\"]==\"bitcoin\"] # please note the use of \",\" to unpack final list\n",
    "bitcoin_id"
   ]
  },
  {
   "cell_type": "code",
   "execution_count": 3,
   "metadata": {},
   "outputs": [
    {
     "name": "stdout",
     "output_type": "stream",
     "text": [
      "https://api.coingecko.com/api/v3/simple/price?ids=bitcoin&vs_currencies=usd\n"
     ]
    },
    {
     "data": {
      "text/plain": [
       "{'bitcoin': {'usd': 20431}}"
      ]
     },
     "execution_count": 3,
     "metadata": {},
     "output_type": "execute_result"
    }
   ],
   "source": [
    "# Build daily url\n",
    "url_daily = f\"https://api.coingecko.com/api/v3/simple/price?ids={bitcoin_id['id']}&vs_currencies=usd\"\n",
    "print(url_daily)\n",
    "btc_daily = requests.get(url_daily).json()\n",
    "btc_daily"
   ]
  },
  {
   "cell_type": "code",
   "execution_count": 4,
   "metadata": {},
   "outputs": [
    {
     "name": "stdout",
     "output_type": "stream",
     "text": [
      "1640995200.0 1648857600.0\n"
     ]
    },
    {
     "data": {
      "text/plain": [
       "dict_keys(['prices', 'market_caps', 'total_volumes'])"
      ]
     },
     "execution_count": 4,
     "metadata": {},
     "output_type": "execute_result"
    }
   ],
   "source": [
    "# Build historic url\n",
    "# 1st Quarter of 2022 -> January, February, and March (Q1)\n",
    "date_range = pd.date_range(start=\"2022-01-01\", end=\"2022-04-02\", freq=\"D\").map(pd.Timestamp.timestamp)\n",
    "print(date_range[0], date_range[-1])\n",
    "\n",
    "url_historic = f\"https://api.coingecko.com/api/v3/coins/bitcoin/market_chart/range?vs_currency=usd&from={date_range[0]}&to={date_range[-1]}\"\n",
    "btc_historic = requests.get(url_historic).json()\n",
    "btc_historic.keys()"
   ]
  },
  {
   "cell_type": "code",
   "execution_count": 5,
   "metadata": {},
   "outputs": [
    {
     "data": {
      "text/plain": [
       "92"
      ]
     },
     "execution_count": 5,
     "metadata": {},
     "output_type": "execute_result"
    }
   ],
   "source": [
    "len(date_range)"
   ]
  },
  {
   "cell_type": "code",
   "execution_count": 6,
   "metadata": {},
   "outputs": [
    {
     "data": {
      "text/plain": [
       "92"
      ]
     },
     "execution_count": 6,
     "metadata": {},
     "output_type": "execute_result"
    }
   ],
   "source": [
    "len(btc_historic[\"prices\"])"
   ]
  },
  {
   "cell_type": "code",
   "execution_count": 7,
   "metadata": {},
   "outputs": [
    {
     "data": {
      "text/html": [
       "<div>\n",
       "<style scoped>\n",
       "    .dataframe tbody tr th:only-of-type {\n",
       "        vertical-align: middle;\n",
       "    }\n",
       "\n",
       "    .dataframe tbody tr th {\n",
       "        vertical-align: top;\n",
       "    }\n",
       "\n",
       "    .dataframe thead th {\n",
       "        text-align: right;\n",
       "    }\n",
       "</style>\n",
       "<table border=\"1\" class=\"dataframe\">\n",
       "  <thead>\n",
       "    <tr style=\"text-align: right;\">\n",
       "      <th></th>\n",
       "      <th>date</th>\n",
       "      <th>price</th>\n",
       "    </tr>\n",
       "  </thead>\n",
       "  <tbody>\n",
       "    <tr>\n",
       "      <th>0</th>\n",
       "      <td>1640995200000</td>\n",
       "      <td>46319.651088</td>\n",
       "    </tr>\n",
       "    <tr>\n",
       "      <th>1</th>\n",
       "      <td>1641081600000</td>\n",
       "      <td>47816.077676</td>\n",
       "    </tr>\n",
       "    <tr>\n",
       "      <th>2</th>\n",
       "      <td>1641168000000</td>\n",
       "      <td>47387.212168</td>\n",
       "    </tr>\n",
       "    <tr>\n",
       "      <th>3</th>\n",
       "      <td>1641254400000</td>\n",
       "      <td>46531.140861</td>\n",
       "    </tr>\n",
       "    <tr>\n",
       "      <th>4</th>\n",
       "      <td>1641340800000</td>\n",
       "      <td>45938.024272</td>\n",
       "    </tr>\n",
       "  </tbody>\n",
       "</table>\n",
       "</div>"
      ],
      "text/plain": [
       "            date         price\n",
       "0  1640995200000  46319.651088\n",
       "1  1641081600000  47816.077676\n",
       "2  1641168000000  47387.212168\n",
       "3  1641254400000  46531.140861\n",
       "4  1641340800000  45938.024272"
      ]
     },
     "execution_count": 7,
     "metadata": {},
     "output_type": "execute_result"
    }
   ],
   "source": [
    "btc_historic_prices = [{\"date\" : x[0], \"price\" : x[1]} for x in btc_historic[\"prices\"]]\n",
    "\n",
    "btc_historic_prices = pd.DataFrame(btc_historic_prices)\n",
    "btc_historic_prices.head()"
   ]
  },
  {
   "cell_type": "code",
   "execution_count": 8,
   "metadata": {},
   "outputs": [
    {
     "data": {
      "text/plain": [
       "0    2022-01-01\n",
       "1    2022-01-02\n",
       "2    2022-01-03\n",
       "3    2022-01-04\n",
       "4    2022-01-05\n",
       "5    2022-01-06\n",
       "6    2022-01-07\n",
       "7    2022-01-08\n",
       "8    2022-01-09\n",
       "9    2022-01-10\n",
       "10   2022-01-11\n",
       "11   2022-01-12\n",
       "12   2022-01-13\n",
       "13   2022-01-14\n",
       "14   2022-01-15\n",
       "15   2022-01-16\n",
       "16   2022-01-17\n",
       "17   2022-01-18\n",
       "18   2022-01-19\n",
       "19   2022-01-20\n",
       "20   2022-01-21\n",
       "21   2022-01-22\n",
       "22   2022-01-23\n",
       "23   2022-01-24\n",
       "Name: date, dtype: datetime64[ns]"
      ]
     },
     "execution_count": 8,
     "metadata": {},
     "output_type": "execute_result"
    }
   ],
   "source": [
    "# I've decided to store time as UNIX time, just for convenience. This is something that we can change on prod Database\n",
    "pd.to_datetime(btc_historic_prices[\"date\"], unit=\"ms\")[0:24]"
   ]
  },
  {
   "cell_type": "code",
   "execution_count": 9,
   "metadata": {},
   "outputs": [
    {
     "data": {
      "text/plain": [
       "count       24.000000\n",
       "mean     42577.166667\n",
       "std       3189.935950\n",
       "min      35180.000000\n",
       "25%      41755.250000\n",
       "50%      42692.500000\n",
       "75%      43730.750000\n",
       "max      47816.000000\n",
       "Name: price, dtype: float64"
      ]
     },
     "execution_count": 9,
     "metadata": {},
     "output_type": "execute_result"
    }
   ],
   "source": [
    "btc_historic_prices.loc[0:23][\"price\"].map(round).describe() # statistics for 2022-01-01"
   ]
  },
  {
   "cell_type": "code",
   "execution_count": 10,
   "metadata": {},
   "outputs": [],
   "source": [
    "btc_historic_prices.to_excel(\"btc_historic_prices.xlsx\")"
   ]
  },
  {
   "cell_type": "code",
   "execution_count": 11,
   "metadata": {},
   "outputs": [],
   "source": [
    "# Send data to database\n",
    "# SQLITE as proof of concept\n",
    "# SQLAlchemy as ORM\n",
    "from sqlalchemy import create_engine\n",
    "from sqlalchemy.ext.declarative import declarative_base\n",
    "from sqlalchemy import Column, Integer, Float\n",
    "from sqlalchemy.orm import Session\n",
    "\n",
    "engine = create_engine(\"sqlite:///../data/coins.sqlite\")\n",
    "\n",
    "# Base\n",
    "Base = declarative_base()\n",
    "\n",
    "class bitcoin_usd(Base):\n",
    "    __tablename__     = 'bitcoin_usd'\n",
    "    id                = Column(Integer, primary_key=True)\n",
    "    date              = Column(Float)\n",
    "    price_usd         = Column(Float)\n",
    "\n",
    "Base.metadata.create_all(engine)\n",
    "\n",
    "# Session\n",
    "session = Session(bind=engine)\n",
    "\n",
    "for index, row in btc_historic_prices.iterrows():\n",
    "\n",
    "        d, p = row\n",
    "        coin_x = bitcoin_usd(\n",
    "            date      = d,\n",
    "            price_usd = p\n",
    "        )\n",
    "\n",
    "        session.add(coin_x)\n",
    "\n",
    "session.commit()\n",
    "session.close()\n",
    "engine.dispose()"
   ]
  },
  {
   "cell_type": "code",
   "execution_count": 39,
   "metadata": {},
   "outputs": [
    {
     "name": "stdout",
     "output_type": "stream",
     "text": [
      "[{'period': '2022-01-01', 'price': 46798.42121288249}, {'period': '2022-01-06', 'price': 42401.96530745529}, {'period': '2022-01-11', 'price': 42871.64238525588}, {'period': '2022-01-16', 'price': 42557.95875046417}, {'period': '2022-01-21', 'price': 37095.46684993514}, {'period': '2022-01-26', 'price': 37444.19319919661}, {'period': '2022-01-31', 'price': 37895.34299925267}, {'period': '2022-02-05', 'price': 42747.690064858085}, {'period': '2022-02-10', 'price': 42991.99808644246}, {'period': '2022-02-15', 'price': 42381.73172993099}, {'period': '2022-02-20', 'price': 38295.248719145195}, {'period': '2022-02-25', 'price': 39559.74091117004}, {'period': '2022-03-02', 'price': 41919.14479005162}, {'period': '2022-03-07', 'price': 39341.3623601022}, {'period': '2022-03-12', 'price': 38906.53292601494}, {'period': '2022-03-17', 'price': 41497.99133982653}, {'period': '2022-03-22', 'price': 42906.748078622775}, {'period': '2022-03-27', 'price': 46548.69360839839}]\n"
     ]
    },
    {
     "name": "stderr",
     "output_type": "stream",
     "text": [
      "c:\\Users\\manyv\\anaconda3\\lib\\site-packages\\pandas\\core\\frame.py:1549: FutureWarning: Using short name for 'orient' is deprecated. Only the options: ('dict', list, 'series', 'split', 'records', 'index') will be used in a future version. Use one of the above to silence this warning.\n",
      "  warnings.warn(\n"
     ]
    },
    {
     "data": {
      "image/png": "[encoded data removed]",
      "text/plain": [
       "<Figure size 1440x360 with 1 Axes>"
      ]
     },
     "metadata": {
      "needs_background": "light"
     },
     "output_type": "display_data"
    }
   ],
   "source": [
    "# Database ready. \n",
    "# Pre- API\n",
    "from sqlalchemy import create_engine\n",
    "from sqlalchemy.ext.automap import automap_base\n",
    "from sqlalchemy.orm import Session\n",
    "\n",
    "engine = create_engine(\"sqlite:///../data/coins.sqlite\")\n",
    "Base   = automap_base()\n",
    "\n",
    "Base.prepare(engine, reflect=True)\n",
    "\n",
    "bitcoin_usd = Base.classes.bitcoin_usd\n",
    "session     = Session(bind=engine)\n",
    "results     = (\n",
    "    session\n",
    "    .query(bitcoin_usd.date, bitcoin_usd.price_usd)\n",
    "    .all()\n",
    ")\n",
    "\n",
    "results           = [{\"date\":x[0], \"price\": x[1]} for x in results]\n",
    "results           = pd.DataFrame(results)\n",
    "results[\"date\"]   = pd.to_datetime(results[\"date\"], unit=\"ms\")\n",
    "\n",
    "# Filter Q1\n",
    "results                = results.query(\"date>='2022-01-01' and date<='2022-03-31'\")\n",
    "results[\"date_string\"] = results[\"date\"].dt.strftime(\"%Y-%m-%d\")\n",
    "\n",
    "# Group by\n",
    "results = results.groupby(\"date_string\")[[\"price\"]].mean().reset_index()\n",
    "\n",
    "# 5-days period\n",
    "period = 0\n",
    "date_period = results.loc[0,\"date_string\"]\n",
    "for x in range(len(results)):\n",
    "    if period==5: \n",
    "        period=0\n",
    "        date_period = results.loc[x,\"date_string\"]\n",
    "\n",
    "    period += 1\n",
    "    results.loc[x,\"period\"] = date_period\n",
    "\n",
    "results = results.groupby(\"period\")[[\"price\"]].mean()\n",
    "\n",
    "results.plot(kind=\"line\", figsize=(20,5))\n",
    "\n",
    "print(results.reset_index().to_dict(orient=\"row\"))\n",
    "session.close()\n",
    "engine.dispose()\n"
   ]
  }
 ],
 "metadata": {
  "kernelspec": {
   "display_name": "Python 3.8.8 ('base')",
   "language": "python",
   "name": "python3"
  },
  "language_info": {
   "codemirror_mode": {
    "name": "ipython",
    "version": 3
   },
   "file_extension": ".py",
   "mimetype": "text/x-python",
   "name": "python",
   "nbconvert_exporter": "python",
   "pygments_lexer": "ipython3",
   "version": "3.8.8"
  },
  "orig_nbformat": 4,
  "vscode": {
   "interpreter": {
    "hash": "524f27b9c3fb1e84adb14f59b9f46612a9e991b7ac2607ad5ff9f9f6802500de"
   }
  }
 },
 "nbformat": 4,
 "nbformat_minor": 2
}
